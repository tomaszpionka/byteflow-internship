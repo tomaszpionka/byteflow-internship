{
 "cells": [
  {
   "cell_type": "code",
   "execution_count": 1,
   "id": "eb29a093-9d86-4528-854a-51274a45a840",
   "metadata": {},
   "outputs": [],
   "source": [
    "import pandas as pd"
   ]
  },
  {
   "cell_type": "code",
   "execution_count": 4,
   "id": "dd04eed2-7af6-49ce-82f7-ddc41088b9a3",
   "metadata": {},
   "outputs": [],
   "source": [
    "df = pd.read_csv('data/survey_results_public.csv')\n",
    "schema_df = pd.read_csv('data/survey_results_schema.csv')"
   ]
  },
  {
   "cell_type": "code",
   "execution_count": null,
   "id": "f9367007-8853-4ef7-a3c2-56de56a362bb",
   "metadata": {},
   "outputs": [],
   "source": [
    "pd.set_option('display.max_columns',84)\n",
    "pd.set_option('display.max_rows',78"
   ]
  }
 ],
 "metadata": {
  "kernelspec": {
   "display_name": "Python 3 (ipykernel)",
   "language": "python",
   "name": "python3"
  },
  "language_info": {
   "codemirror_mode": {
    "name": "ipython",
    "version": 3
   },
   "file_extension": ".py",
   "mimetype": "text/x-python",
   "name": "python",
   "nbconvert_exporter": "python",
   "pygments_lexer": "ipython3",
   "version": "3.12.3"
  }
 },
 "nbformat": 4,
 "nbformat_minor": 5
}
